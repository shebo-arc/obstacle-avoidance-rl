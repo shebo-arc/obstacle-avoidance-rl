{
 "cells": [
  {
   "cell_type": "code",
   "execution_count": null,
   "id": "9a14092b-e977-4bd4-97a8-e9029fb5b2e7",
   "metadata": {},
   "outputs": [],
   "source": [
    "!pip install ultralytics"
   ]
  },
  {
   "cell_type": "code",
   "execution_count": null,
   "id": "870cae89-0f3b-4674-946d-9bc86140f78b",
   "metadata": {},
   "outputs": [],
   "source": [
    "from ultralytics import YOLO\n",
    "import torch\n",
    "\n",
    "# Load the model\n",
    "model = YOLO(\"yolov8n.pt\")\n",
    "\n",
    "# Save the model\n",
    "torch.save(model, \"saved_yolo.pt\")\n",
    "\n",
    "# Load the saved model\n",
    "loaded_model = torch.load(\"saved_yolo.pt\")\n",
    "\n",
    "# Print the model summary\n",
    "print(loaded_model)"
   ]
  },
  {
   "cell_type": "code",
   "execution_count": 4,
   "id": "913ceaf8-12dd-4af9-8639-ed08482ed2a8",
   "metadata": {},
   "outputs": [],
   "source": [
    "import pandas as pd\n",
    "\n",
    "# Read the CSV file\n",
    "df = pd.read_csv('data/export/_annotations.csv')\n",
    "\n",
    "# Remove empty rows\n",
    "df_cleaned = df.dropna(how='all')\n",
    "\n",
    "# Save the cleaned data back to a CSV file\n",
    "df_cleaned.to_csv('data/export/annotations.csv', index=False)"
   ]
  },
  {
   "cell_type": "code",
   "execution_count": 5,
   "id": "2c7d29c2-5f48-4cbd-8a66-33fe0ea472cd",
   "metadata": {},
   "outputs": [
    {
     "name": "stdout",
     "output_type": "stream",
     "text": [
      "Unique values in the 'class' column:\n",
      "car\n",
      "pedestrian\n",
      "biker\n",
      "truck\n",
      "trafficLight-Red\n",
      "trafficLight\n",
      "trafficLight-Green\n",
      "trafficLight-RedLeft\n",
      "trafficLight-GreenLeft\n",
      "trafficLight-Yellow\n",
      "trafficLight-YellowLeft\n",
      "\n",
      "Total number of unique values: 11\n"
     ]
    }
   ],
   "source": [
    "import pandas as pd\n",
    "\n",
    "# Read the CSV file\n",
    "df = pd.read_csv('data/export/annotations.csv')\n",
    "\n",
    "# Specify the column name\n",
    "column_name = 'class'\n",
    "\n",
    "# Find unique values in the specified column\n",
    "unique_values = df[column_name].unique()\n",
    "\n",
    "# Print the unique values\n",
    "print(f\"Unique values in the '{column_name}' column:\")\n",
    "for value in unique_values:\n",
    "    print(value)\n",
    "\n",
    "# Optional: Print the count of unique values\n",
    "print(f\"\\nTotal number of unique values: {len(unique_values)}\")\n"
   ]
  },
  {
   "cell_type": "code",
   "execution_count": 7,
   "id": "2c4e1c0b-4118-4c9c-9362-f6ca8301e9c0",
   "metadata": {},
   "outputs": [
    {
     "data": {
      "text/plain": [
       "{'car': 0,\n",
       " 'pedestrian': 0,\n",
       " 'biker': 0,\n",
       " 'truck': 0,\n",
       " 'trafficLight-Red': 0,\n",
       " 'trafficLight': 0,\n",
       " 'trafficLight-Green': 0,\n",
       " 'trafficLight-RedLeft': 0,\n",
       " 'trafficLight-GreenLeft': 0,\n",
       " 'trafficLight-Yellow': 0,\n",
       " 'trafficLight-YellowLeft': 0}"
      ]
     },
     "execution_count": 7,
     "metadata": {},
     "output_type": "execute_result"
    }
   ],
   "source": [
    "class_names = ['car','pedestrian','biker','truck','trafficLight-Red','trafficLight','trafficLight-Green',\n",
    "               'trafficLight-RedLeft','trafficLight-GreenLeft','trafficLight-Yellow','trafficLight-YellowLeft']\n",
    "class_dict = {item: 0 for item in class_names}\n",
    "class_dict"
   ]
  },
  {
   "cell_type": "code",
   "execution_count": null,
   "id": "edc20632-193e-44c8-8602-7c101ad3b068",
   "metadata": {},
   "outputs": [],
   "source": []
  }
 ],
 "metadata": {
  "kernelspec": {
   "display_name": "Python 3 (ipykernel)",
   "language": "python",
   "name": "python3"
  },
  "language_info": {
   "codemirror_mode": {
    "name": "ipython",
    "version": 3
   },
   "file_extension": ".py",
   "mimetype": "text/x-python",
   "name": "python",
   "nbconvert_exporter": "python",
   "pygments_lexer": "ipython3",
   "version": "3.12.3"
  }
 },
 "nbformat": 4,
 "nbformat_minor": 5
}
