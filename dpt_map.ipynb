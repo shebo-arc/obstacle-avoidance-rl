{
 "cells": [
  {
   "cell_type": "code",
   "execution_count": null,
   "id": "c6f8bd60-bafa-4981-a969-cbf0b6b73b37",
   "metadata": {
    "scrolled": true
   },
   "outputs": [],
   "source": [
    "!pip install dpt"
   ]
  },
  {
   "cell_type": "code",
   "execution_count": null,
   "id": "1469d0cd-c76b-4da4-a66b-e50c280d48e5",
   "metadata": {},
   "outputs": [],
   "source": [
    "!pip install -q git+https://github.com/huggingface/transformers.git"
   ]
  },
  {
   "cell_type": "code",
   "execution_count": null,
   "id": "03cc9b94-5b05-498a-a371-dcd5d14200ff",
   "metadata": {},
   "outputs": [],
   "source": [
    "import dpt\n",
    "from PIL import Image\n",
    "import requests\n",
    "import torch\n",
    "import numpy as np\n",
    "from transformers import DPTFeatureExtractor, DPTForDepthEstimation"
   ]
  },
  {
   "cell_type": "code",
   "execution_count": null,
   "id": "71e78cae-013d-4aa0-8c8b-8db99c2ba07b",
   "metadata": {},
   "outputs": [],
   "source": [
    "# Create a DPT feature extractor\n",
    "feature_extractor = DPTFeatureExtractor.from_pretrained(\"Intel/dpt-large\")\n",
    "\n",
    "# Create a DPT depth estimation model\n",
    "model = DPTForDepthEstimation.from_pretrained(\"Intel/dpt-large\")"
   ]
  },
  {
   "cell_type": "code",
   "execution_count": null,
   "id": "ed48ae65-aff4-429b-a023-41b8f444315a",
   "metadata": {},
   "outputs": [],
   "source": [
    "# Specify the path to the image file\n",
    "image_path = \"D:/minie/code/nyu_data/data/nyu2_train/bathroom_0002_out/34.jpg\"\n",
    "\n",
    "# Open the image using PIL\n",
    "image = Image.open(image_path)\n",
    "\n",
    "pixel_values = feature_extractor(image, return_tensors=\"pt\").pixel_values"
   ]
  },
  {
   "cell_type": "code",
   "execution_count": null,
   "id": "e7223a10-447d-46e7-8200-1b04ee4bbfae",
   "metadata": {},
   "outputs": [],
   "source": [
    "# Use torch.no_grad() to disable gradient computation\n",
    "with torch.no_grad():\n",
    "    # Pass the pixel values through the model\n",
    "    outputs = model(pixel_values)\n",
    "    # Access the predicted depth values from the outputs\n",
    "    predicted_depth = outputs.predicted_depth"
   ]
  },
  {
   "cell_type": "code",
   "execution_count": null,
   "id": "1f7c9e04-4ef1-4c69-9107-cbd9644dd0a6",
   "metadata": {},
   "outputs": [],
   "source": [
    "# Interpolate the predicted depth values to the original size\n",
    "prediction = torch.nn.functional.interpolate(\n",
    "    predicted_depth.unsqueeze(1),\n",
    "    size=image.size[::-1],\n",
    "    mode=\"bicubic\",\n",
    "    align_corners=False,\n",
    ").squeeze()\n",
    "\n",
    "# Convert the interpolated depth values to a numpy array\n",
    "output = prediction.cpu().numpy()\n",
    "\n",
    "# Scale and format the depth values for visualization\n",
    "formatted = (output * 255 / np.max(output)).astype('uint8')\n",
    "\n",
    "# Create an image from the formatted depth values\n",
    "depth = Image.fromarray(formatted)\n",
    "depth"
   ]
  }
 ],
 "metadata": {
  "kernelspec": {
   "display_name": "Python 3 (ipykernel)",
   "language": "python",
   "name": "python3"
  },
  "language_info": {
   "codemirror_mode": {
    "name": "ipython",
    "version": 3
   },
   "file_extension": ".py",
   "mimetype": "text/x-python",
   "name": "python",
   "nbconvert_exporter": "python",
   "pygments_lexer": "ipython3",
   "version": "3.12.3"
  }
 },
 "nbformat": 4,
 "nbformat_minor": 5
}
